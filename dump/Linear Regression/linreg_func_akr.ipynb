{
  "nbformat": 4,
  "nbformat_minor": 0,
  "metadata": {
    "colab": {
      "provenance": []
    },
    "kernelspec": {
      "name": "python3",
      "display_name": "Python 3"
    },
    "language_info": {
      "name": "python"
    }
  },
  "cells": [
    {
      "cell_type": "code",
      "execution_count": null,
      "metadata": {
        "id": "rE80lC9DCfzD",
        "outputId": "16875b08-c51b-4ed4-95e9-5a862f17d9fd",
        "colab": {
          "base_uri": "https://localhost:8080/"
        }
      },
      "outputs": [
        {
          "output_type": "stream",
          "name": "stdout",
          "text": [
            "HELO\n"
          ]
        }
      ],
      "source": [
        "print(\"HELO\")"
      ]
    },
    {
      "cell_type": "code",
      "source": [
        "pip install lab-utils"
      ],
      "metadata": {
        "colab": {
          "base_uri": "https://localhost:8080/"
        },
        "id": "b8OQS-3n9Neo",
        "outputId": "e62687a5-ad8a-4073-b8de-9d287ae1857e"
      },
      "execution_count": null,
      "outputs": [
        {
          "output_type": "stream",
          "name": "stdout",
          "text": [
            "Collecting lab-utils\n",
            "  Downloading lab-utils-0.5.12.tar.gz (41 kB)\n",
            "\u001b[?25l     \u001b[90m━━━━━━━━━━━━━━━━━━━━━━━━━━━━━━━━━━━━━━━━\u001b[0m \u001b[32m0.0/41.2 kB\u001b[0m \u001b[31m?\u001b[0m eta \u001b[36m-:--:--\u001b[0m\r\u001b[2K     \u001b[90m━━━━━━━━━━━━━━━━━━━━━━━━━━━━━━━━━━━━━━━━\u001b[0m \u001b[32m41.2/41.2 kB\u001b[0m \u001b[31m3.2 MB/s\u001b[0m eta \u001b[36m0:00:00\u001b[0m\n",
            "\u001b[?25h  Installing build dependencies ... \u001b[?25l\u001b[?25hdone\n",
            "  Getting requirements to build wheel ... \u001b[?25l\u001b[?25hdone\n",
            "  Preparing metadata (pyproject.toml) ... \u001b[?25l\u001b[?25hdone\n",
            "Requirement already satisfied: psycopg2 in /usr/local/lib/python3.10/dist-packages (from lab-utils) (2.9.6)\n",
            "Collecting zc.lockfile (from lab-utils)\n",
            "  Downloading zc.lockfile-3.0.post1-py3-none-any.whl (9.8 kB)\n",
            "Collecting python-json-logger (from lab-utils)\n",
            "  Downloading python_json_logger-2.0.7-py3-none-any.whl (8.1 kB)\n",
            "Collecting slacker-log-handler (from lab-utils)\n",
            "  Downloading slacker_log_handler-1.8.0.tar.gz (9.4 kB)\n",
            "  Preparing metadata (setup.py) ... \u001b[?25l\u001b[?25hdone\n",
            "Requirement already satisfied: pandas in /usr/local/lib/python3.10/dist-packages (from lab-utils) (1.5.3)\n",
            "Requirement already satisfied: python-dateutil>=2.8.1 in /usr/local/lib/python3.10/dist-packages (from pandas->lab-utils) (2.8.2)\n",
            "Requirement already satisfied: pytz>=2020.1 in /usr/local/lib/python3.10/dist-packages (from pandas->lab-utils) (2022.7.1)\n",
            "Requirement already satisfied: numpy>=1.21.0 in /usr/local/lib/python3.10/dist-packages (from pandas->lab-utils) (1.22.4)\n",
            "Collecting slacker<=0.9.65,>=0.7.3 (from slacker-log-handler->lab-utils)\n",
            "  Downloading slacker-0.9.65.tar.gz (8.3 kB)\n",
            "  Preparing metadata (setup.py) ... \u001b[?25l\u001b[?25hdone\n",
            "Requirement already satisfied: six>=1.11.0 in /usr/local/lib/python3.10/dist-packages (from slacker-log-handler->lab-utils) (1.16.0)\n",
            "Requirement already satisfied: setuptools in /usr/local/lib/python3.10/dist-packages (from zc.lockfile->lab-utils) (67.7.2)\n",
            "Requirement already satisfied: requests>=2.2.1 in /usr/local/lib/python3.10/dist-packages (from slacker<=0.9.65,>=0.7.3->slacker-log-handler->lab-utils) (2.27.1)\n",
            "Requirement already satisfied: urllib3<1.27,>=1.21.1 in /usr/local/lib/python3.10/dist-packages (from requests>=2.2.1->slacker<=0.9.65,>=0.7.3->slacker-log-handler->lab-utils) (1.26.16)\n",
            "Requirement already satisfied: certifi>=2017.4.17 in /usr/local/lib/python3.10/dist-packages (from requests>=2.2.1->slacker<=0.9.65,>=0.7.3->slacker-log-handler->lab-utils) (2023.5.7)\n",
            "Requirement already satisfied: charset-normalizer~=2.0.0 in /usr/local/lib/python3.10/dist-packages (from requests>=2.2.1->slacker<=0.9.65,>=0.7.3->slacker-log-handler->lab-utils) (2.0.12)\n",
            "Requirement already satisfied: idna<4,>=2.5 in /usr/local/lib/python3.10/dist-packages (from requests>=2.2.1->slacker<=0.9.65,>=0.7.3->slacker-log-handler->lab-utils) (3.4)\n",
            "Building wheels for collected packages: lab-utils, slacker-log-handler, slacker\n",
            "  Building wheel for lab-utils (pyproject.toml) ... \u001b[?25l\u001b[?25hdone\n",
            "  Created wheel for lab-utils: filename=lab_utils-0.5.12-py3-none-any.whl size=37981 sha256=196722ac297831d2fc68ec4461a7bb4706717374eda2fcc6cf2cb0be7e100751\n",
            "  Stored in directory: /root/.cache/pip/wheels/26/77/f2/0f8dcc372e550c877a72b782bd31bef99e7eac01f30a4f99fe\n",
            "  Building wheel for slacker-log-handler (setup.py) ... \u001b[?25l\u001b[?25hdone\n",
            "  Created wheel for slacker-log-handler: filename=slacker_log_handler-1.8.0-py2.py3-none-any.whl size=8402 sha256=53ec87d45e9d3de1bb1e9aace325ab846d0f561b10a693c00fbc7ea83d862061\n",
            "  Stored in directory: /root/.cache/pip/wheels/c3/6b/54/66519553e4466153d58fe9296379564db8594e5e875fdbcc3f\n",
            "  Building wheel for slacker (setup.py) ... \u001b[?25l\u001b[?25hdone\n",
            "  Created wheel for slacker: filename=slacker-0.9.65-py3-none-any.whl size=7743 sha256=f53392fd73dc9b8f314cb033da918c0550a8505d7d63e07f783c6b309b0cf8fd\n",
            "  Stored in directory: /root/.cache/pip/wheels/53/c7/ee/4d7457bd3c7965a33ce33ea5fcdd8c86f52dbeb957ea72fe9c\n",
            "Successfully built lab-utils slacker-log-handler slacker\n",
            "Installing collected packages: zc.lockfile, python-json-logger, slacker, slacker-log-handler, lab-utils\n",
            "Successfully installed lab-utils-0.5.12 python-json-logger-2.0.7 slacker-0.9.65 slacker-log-handler-1.8.0 zc.lockfile-3.0.post1\n"
          ]
        }
      ]
    },
    {
      "cell_type": "code",
      "source": [
        "from google.colab import files\n",
        "uploaded = files.upload()"
      ],
      "metadata": {
        "colab": {
          "base_uri": "https://localhost:8080/",
          "height": 107
        },
        "id": "GwMgUnYn-lP6",
        "outputId": "c332f5e5-8fee-42bc-e948-3b276efbe1bc"
      },
      "execution_count": null,
      "outputs": [
        {
          "output_type": "display_data",
          "data": {
            "text/plain": [
              "<IPython.core.display.HTML object>"
            ],
            "text/html": [
              "\n",
              "     <input type=\"file\" id=\"files-5350092c-0701-4470-b00d-5f3ad812c253\" name=\"files[]\" multiple disabled\n",
              "        style=\"border:none\" />\n",
              "     <output id=\"result-5350092c-0701-4470-b00d-5f3ad812c253\">\n",
              "      Upload widget is only available when the cell has been executed in the\n",
              "      current browser session. Please rerun this cell to enable.\n",
              "      </output>\n",
              "      <script>// Copyright 2017 Google LLC\n",
              "//\n",
              "// Licensed under the Apache License, Version 2.0 (the \"License\");\n",
              "// you may not use this file except in compliance with the License.\n",
              "// You may obtain a copy of the License at\n",
              "//\n",
              "//      http://www.apache.org/licenses/LICENSE-2.0\n",
              "//\n",
              "// Unless required by applicable law or agreed to in writing, software\n",
              "// distributed under the License is distributed on an \"AS IS\" BASIS,\n",
              "// WITHOUT WARRANTIES OR CONDITIONS OF ANY KIND, either express or implied.\n",
              "// See the License for the specific language governing permissions and\n",
              "// limitations under the License.\n",
              "\n",
              "/**\n",
              " * @fileoverview Helpers for google.colab Python module.\n",
              " */\n",
              "(function(scope) {\n",
              "function span(text, styleAttributes = {}) {\n",
              "  const element = document.createElement('span');\n",
              "  element.textContent = text;\n",
              "  for (const key of Object.keys(styleAttributes)) {\n",
              "    element.style[key] = styleAttributes[key];\n",
              "  }\n",
              "  return element;\n",
              "}\n",
              "\n",
              "// Max number of bytes which will be uploaded at a time.\n",
              "const MAX_PAYLOAD_SIZE = 100 * 1024;\n",
              "\n",
              "function _uploadFiles(inputId, outputId) {\n",
              "  const steps = uploadFilesStep(inputId, outputId);\n",
              "  const outputElement = document.getElementById(outputId);\n",
              "  // Cache steps on the outputElement to make it available for the next call\n",
              "  // to uploadFilesContinue from Python.\n",
              "  outputElement.steps = steps;\n",
              "\n",
              "  return _uploadFilesContinue(outputId);\n",
              "}\n",
              "\n",
              "// This is roughly an async generator (not supported in the browser yet),\n",
              "// where there are multiple asynchronous steps and the Python side is going\n",
              "// to poll for completion of each step.\n",
              "// This uses a Promise to block the python side on completion of each step,\n",
              "// then passes the result of the previous step as the input to the next step.\n",
              "function _uploadFilesContinue(outputId) {\n",
              "  const outputElement = document.getElementById(outputId);\n",
              "  const steps = outputElement.steps;\n",
              "\n",
              "  const next = steps.next(outputElement.lastPromiseValue);\n",
              "  return Promise.resolve(next.value.promise).then((value) => {\n",
              "    // Cache the last promise value to make it available to the next\n",
              "    // step of the generator.\n",
              "    outputElement.lastPromiseValue = value;\n",
              "    return next.value.response;\n",
              "  });\n",
              "}\n",
              "\n",
              "/**\n",
              " * Generator function which is called between each async step of the upload\n",
              " * process.\n",
              " * @param {string} inputId Element ID of the input file picker element.\n",
              " * @param {string} outputId Element ID of the output display.\n",
              " * @return {!Iterable<!Object>} Iterable of next steps.\n",
              " */\n",
              "function* uploadFilesStep(inputId, outputId) {\n",
              "  const inputElement = document.getElementById(inputId);\n",
              "  inputElement.disabled = false;\n",
              "\n",
              "  const outputElement = document.getElementById(outputId);\n",
              "  outputElement.innerHTML = '';\n",
              "\n",
              "  const pickedPromise = new Promise((resolve) => {\n",
              "    inputElement.addEventListener('change', (e) => {\n",
              "      resolve(e.target.files);\n",
              "    });\n",
              "  });\n",
              "\n",
              "  const cancel = document.createElement('button');\n",
              "  inputElement.parentElement.appendChild(cancel);\n",
              "  cancel.textContent = 'Cancel upload';\n",
              "  const cancelPromise = new Promise((resolve) => {\n",
              "    cancel.onclick = () => {\n",
              "      resolve(null);\n",
              "    };\n",
              "  });\n",
              "\n",
              "  // Wait for the user to pick the files.\n",
              "  const files = yield {\n",
              "    promise: Promise.race([pickedPromise, cancelPromise]),\n",
              "    response: {\n",
              "      action: 'starting',\n",
              "    }\n",
              "  };\n",
              "\n",
              "  cancel.remove();\n",
              "\n",
              "  // Disable the input element since further picks are not allowed.\n",
              "  inputElement.disabled = true;\n",
              "\n",
              "  if (!files) {\n",
              "    return {\n",
              "      response: {\n",
              "        action: 'complete',\n",
              "      }\n",
              "    };\n",
              "  }\n",
              "\n",
              "  for (const file of files) {\n",
              "    const li = document.createElement('li');\n",
              "    li.append(span(file.name, {fontWeight: 'bold'}));\n",
              "    li.append(span(\n",
              "        `(${file.type || 'n/a'}) - ${file.size} bytes, ` +\n",
              "        `last modified: ${\n",
              "            file.lastModifiedDate ? file.lastModifiedDate.toLocaleDateString() :\n",
              "                                    'n/a'} - `));\n",
              "    const percent = span('0% done');\n",
              "    li.appendChild(percent);\n",
              "\n",
              "    outputElement.appendChild(li);\n",
              "\n",
              "    const fileDataPromise = new Promise((resolve) => {\n",
              "      const reader = new FileReader();\n",
              "      reader.onload = (e) => {\n",
              "        resolve(e.target.result);\n",
              "      };\n",
              "      reader.readAsArrayBuffer(file);\n",
              "    });\n",
              "    // Wait for the data to be ready.\n",
              "    let fileData = yield {\n",
              "      promise: fileDataPromise,\n",
              "      response: {\n",
              "        action: 'continue',\n",
              "      }\n",
              "    };\n",
              "\n",
              "    // Use a chunked sending to avoid message size limits. See b/62115660.\n",
              "    let position = 0;\n",
              "    do {\n",
              "      const length = Math.min(fileData.byteLength - position, MAX_PAYLOAD_SIZE);\n",
              "      const chunk = new Uint8Array(fileData, position, length);\n",
              "      position += length;\n",
              "\n",
              "      const base64 = btoa(String.fromCharCode.apply(null, chunk));\n",
              "      yield {\n",
              "        response: {\n",
              "          action: 'append',\n",
              "          file: file.name,\n",
              "          data: base64,\n",
              "        },\n",
              "      };\n",
              "\n",
              "      let percentDone = fileData.byteLength === 0 ?\n",
              "          100 :\n",
              "          Math.round((position / fileData.byteLength) * 100);\n",
              "      percent.textContent = `${percentDone}% done`;\n",
              "\n",
              "    } while (position < fileData.byteLength);\n",
              "  }\n",
              "\n",
              "  // All done.\n",
              "  yield {\n",
              "    response: {\n",
              "      action: 'complete',\n",
              "    }\n",
              "  };\n",
              "}\n",
              "\n",
              "scope.google = scope.google || {};\n",
              "scope.google.colab = scope.google.colab || {};\n",
              "scope.google.colab._files = {\n",
              "  _uploadFiles,\n",
              "  _uploadFilesContinue,\n",
              "};\n",
              "})(self);\n",
              "</script> "
            ]
          },
          "metadata": {}
        },
        {
          "output_type": "stream",
          "name": "stdout",
          "text": [
            "Saving lab_utils_common.py to lab_utils_common.py\n",
            "Saving lab_utils_multi.py to lab_utils_multi.py\n"
          ]
        }
      ]
    },
    {
      "cell_type": "code",
      "source": [
        "import numpy as np\n",
        "import matplotlib.pyplot as plt\n",
        "from sklearn.linear_model import SGDRegressor\n",
        "from sklearn.preprocessing import StandardScaler\n",
        "from lab_utils_multi import  load_house_data\n",
        "from lab_utils_common import dlc\n",
        "np.set_printoptions(precision=2)\n",
        "plt.style.use('./deeplearning.mplstyle')\n",
        "print(\"Sucksexfull\")\n",
        "\n"
      ],
      "metadata": {
        "colab": {
          "base_uri": "https://localhost:8080/"
        },
        "id": "qFjI8rEGJn8h",
        "outputId": "ccee38bd-80cc-4a62-89ab-afe83e62ddd5"
      },
      "execution_count": null,
      "outputs": [
        {
          "output_type": "stream",
          "name": "stdout",
          "text": [
            "Sucksexfull\n"
          ]
        }
      ]
    },
    {
      "cell_type": "code",
      "source": [
        "import pandas as pd\n",
        "df = pd.read_csv('Real estate.csv')\n",
        "print(df)"
      ],
      "metadata": {
        "colab": {
          "base_uri": "https://localhost:8080/"
        },
        "id": "54mTZiyrJ1FL",
        "outputId": "da831587-a684-4b9f-afd0-bd2b0f4826a8"
      },
      "execution_count": null,
      "outputs": [
        {
          "output_type": "stream",
          "name": "stdout",
          "text": [
            "      No  X1 transaction date  X2 house age  \\\n",
            "0      1             2012.917          32.0   \n",
            "1      2             2012.917          19.5   \n",
            "2      3             2013.583          13.3   \n",
            "3      4             2013.500          13.3   \n",
            "4      5             2012.833           5.0   \n",
            "..   ...                  ...           ...   \n",
            "409  410             2013.000          13.7   \n",
            "410  411             2012.667           5.6   \n",
            "411  412             2013.250          18.8   \n",
            "412  413             2013.000           8.1   \n",
            "413  414             2013.500           6.5   \n",
            "\n",
            "     X3 distance to the nearest MRT station  X4 number of convenience stores  \\\n",
            "0                                  84.87882                               10   \n",
            "1                                 306.59470                                9   \n",
            "2                                 561.98450                                5   \n",
            "3                                 561.98450                                5   \n",
            "4                                 390.56840                                5   \n",
            "..                                      ...                              ...   \n",
            "409                              4082.01500                                0   \n",
            "410                                90.45606                                9   \n",
            "411                               390.96960                                7   \n",
            "412                               104.81010                                5   \n",
            "413                                90.45606                                9   \n",
            "\n",
            "     X5 latitude  X6 longitude  Y house price of unit area  \n",
            "0       24.98298     121.54024                        37.9  \n",
            "1       24.98034     121.53951                        42.2  \n",
            "2       24.98746     121.54391                        47.3  \n",
            "3       24.98746     121.54391                        54.8  \n",
            "4       24.97937     121.54245                        43.1  \n",
            "..           ...           ...                         ...  \n",
            "409     24.94155     121.50381                        15.4  \n",
            "410     24.97433     121.54310                        50.0  \n",
            "411     24.97923     121.53986                        40.6  \n",
            "412     24.96674     121.54067                        52.5  \n",
            "413     24.97433     121.54310                        63.9  \n",
            "\n",
            "[414 rows x 8 columns]\n"
          ]
        }
      ]
    },
    {
      "cell_type": "code",
      "source": [
        "import pandas as pd\n",
        "df = pd.read_csv('Real estate.csv')\n",
        "print(df)"
      ],
      "metadata": {
        "colab": {
          "base_uri": "https://localhost:8080/"
        },
        "id": "UhzVS6w4GHxI",
        "outputId": "5dd25117-3575-4b12-d22e-ec0a8e85dc6b"
      },
      "execution_count": null,
      "outputs": [
        {
          "output_type": "stream",
          "name": "stdout",
          "text": [
            "      No  X1 transaction date  X2 house age  \\\n",
            "0      1             2012.917          32.0   \n",
            "1      2             2012.917          19.5   \n",
            "2      3             2013.583          13.3   \n",
            "3      4             2013.500          13.3   \n",
            "4      5             2012.833           5.0   \n",
            "..   ...                  ...           ...   \n",
            "409  410             2013.000          13.7   \n",
            "410  411             2012.667           5.6   \n",
            "411  412             2013.250          18.8   \n",
            "412  413             2013.000           8.1   \n",
            "413  414             2013.500           6.5   \n",
            "\n",
            "     X3 distance to the nearest MRT station  X4 number of convenience stores  \\\n",
            "0                                  84.87882                               10   \n",
            "1                                 306.59470                                9   \n",
            "2                                 561.98450                                5   \n",
            "3                                 561.98450                                5   \n",
            "4                                 390.56840                                5   \n",
            "..                                      ...                              ...   \n",
            "409                              4082.01500                                0   \n",
            "410                                90.45606                                9   \n",
            "411                               390.96960                                7   \n",
            "412                               104.81010                                5   \n",
            "413                                90.45606                                9   \n",
            "\n",
            "     X5 latitude  X6 longitude  Y house price of unit area  \n",
            "0       24.98298     121.54024                        37.9  \n",
            "1       24.98034     121.53951                        42.2  \n",
            "2       24.98746     121.54391                        47.3  \n",
            "3       24.98746     121.54391                        54.8  \n",
            "4       24.97937     121.54245                        43.1  \n",
            "..           ...           ...                         ...  \n",
            "409     24.94155     121.50381                        15.4  \n",
            "410     24.97433     121.54310                        50.0  \n",
            "411     24.97923     121.53986                        40.6  \n",
            "412     24.96674     121.54067                        52.5  \n",
            "413     24.97433     121.54310                        63.9  \n",
            "\n",
            "[414 rows x 8 columns]\n"
          ]
        }
      ]
    },
    {
      "cell_type": "code",
      "source": [
        "print(df.values[1])"
      ],
      "metadata": {
        "colab": {
          "base_uri": "https://localhost:8080/"
        },
        "id": "o4nl_spZGUOq",
        "outputId": "23758ef9-ec35-442a-c843-b9af9c317541"
      },
      "execution_count": null,
      "outputs": [
        {
          "output_type": "stream",
          "name": "stdout",
          "text": [
            "[2.00e+00 2.01e+03 1.95e+01 3.07e+02 9.00e+00 2.50e+01 1.22e+02 4.22e+01]\n"
          ]
        }
      ]
    },
    {
      "cell_type": "code",
      "source": [
        "print(df.columns[7])"
      ],
      "metadata": {
        "colab": {
          "base_uri": "https://localhost:8080/"
        },
        "id": "xKD2qdX2GhLV",
        "outputId": "f38c32e5-9a09-4315-9039-92ef91650624"
      },
      "execution_count": null,
      "outputs": [
        {
          "output_type": "stream",
          "name": "stdout",
          "text": [
            "Y house price of unit area\n"
          ]
        }
      ]
    },
    {
      "cell_type": "code",
      "source": [
        "y_train = df['Y house price of unit area'].values\n",
        "print(y_train)"
      ],
      "metadata": {
        "colab": {
          "base_uri": "https://localhost:8080/"
        },
        "id": "Xbh54MQqKp7R",
        "outputId": "d63e9b52-399d-4cce-be72-bcf8e4b4b900"
      },
      "execution_count": null,
      "outputs": [
        {
          "output_type": "stream",
          "name": "stdout",
          "text": [
            "[ 37.9  42.2  47.3  54.8  43.1  32.1  40.3  46.7  18.8  22.1  41.4  58.1\n",
            "  39.3  23.8  34.3  50.5  70.1  37.4  42.3  47.7  29.3  51.6  24.6  47.9\n",
            "  38.8  27.   56.2  33.6  47.   57.1  22.1  25.   34.2  49.3  55.1  27.3\n",
            "  22.9  25.3  47.7  46.2  15.9  18.2  34.7  34.1  53.9  38.3  42.   61.5\n",
            "  13.4  13.2  44.2  20.7  27.   38.9  51.7  13.7  41.9  53.5  22.6  42.4\n",
            "  21.3  63.2  27.7  55.   25.3  44.3  50.7  56.8  36.2  42.   59.   40.8\n",
            "  36.3  20.   54.4  29.5  36.8  25.6  29.8  26.5  40.3  36.8  48.1  17.7\n",
            "  43.7  50.8  27.   18.3  48.   25.3  45.4  43.2  21.8  16.1  41.   51.8\n",
            "  59.5  34.6  51.   62.2  38.2  32.9  54.4  45.7  30.5  71.   47.1  26.6\n",
            "  34.1  28.4  51.6  39.4  23.1   7.6  53.3  46.4  12.2  13.   30.6  59.6\n",
            "  31.3  48.   32.5  45.5  57.4  48.6  62.9  55.   60.7  41.   37.5  30.7\n",
            "  37.5  39.5  42.2  20.8  46.8  47.4  43.5  42.5  51.4  28.9  37.5  40.1\n",
            "  28.4  45.5  52.2  43.2  45.1  39.7  48.5  44.7  28.9  40.9  20.7  15.6\n",
            "  18.3  35.6  39.4  37.4  57.8  39.6  11.6  55.5  55.2  30.6  73.6  43.4\n",
            "  37.4  23.5  14.4  58.8  58.1  35.1  45.2  36.5  19.2  42.   36.7  42.6\n",
            "  15.5  55.9  23.6  18.8  21.8  21.5  25.7  22.   44.3  20.5  42.3  37.8\n",
            "  42.7  49.3  29.3  34.6  36.6  48.2  39.1  31.6  25.5  45.9  31.5  46.1\n",
            "  26.6  21.4  44.   34.2  26.2  40.9  52.2  43.5  31.1  58.   20.9  48.1\n",
            "  39.7  40.8  43.8  40.2  78.3  38.5  48.5  42.3  46.   49.   12.8  40.2\n",
            "  46.6  19.   33.4  14.7  17.4  32.4  23.9  39.3  61.9  39.   40.6  29.7\n",
            "  28.8  41.4  33.4  48.2  21.7  40.8  40.6  23.1  22.3  15.   30.   13.8\n",
            "  52.7  25.9  51.8  17.4  26.5  43.9  63.3  28.8  30.7  24.4  53.   31.7\n",
            "  40.6  38.1  23.7  41.1  40.1  23.  117.5  26.5  40.5  29.3  41.   49.7\n",
            "  34.   27.7  44.   31.1  45.4  44.8  25.6  23.5  34.4  55.3  56.3  32.9\n",
            "  51.   44.5  37.   54.4  24.5  42.5  38.1  21.8  34.1  28.5  16.7  46.1\n",
            "  36.9  35.7  23.2  38.4  29.4  55.   50.2  24.7  53.   19.1  24.7  42.2\n",
            "  78.   42.8  41.6  27.3  42.   37.5  49.8  26.9  18.6  37.7  33.1  42.5\n",
            "  31.3  38.1  62.1  36.7  23.6  19.2  12.8  15.6  39.6  38.4  22.8  36.5\n",
            "  35.6  30.9  36.3  50.4  42.9  37.   53.5  46.6  41.2  37.9  30.8  11.2\n",
            "  53.7  47.   42.3  28.6  25.7  31.3  30.1  60.7  45.3  44.9  45.1  24.7\n",
            "  47.1  63.3  40.   48.   33.1  29.5  24.8  20.9  43.1  22.8  42.1  51.7\n",
            "  41.5  52.2  49.5  23.8  30.5  56.8  37.4  69.7  53.3  47.3  29.3  40.3\n",
            "  12.9  46.6  55.3  25.6  27.3  67.7  38.6  31.3  35.3  40.3  24.7  42.5\n",
            "  31.9  32.2  23.   37.3  35.5  27.7  28.5  39.7  41.2  37.2  40.5  22.3\n",
            "  28.1  15.4  50.   40.6  52.5  63.9]\n"
          ]
        }
      ]
    },
    {
      "cell_type": "code",
      "source": [
        "import numpy as np\n",
        "df2 = df.drop(df.columns[7],axis = 1)\n",
        "x_train = ([])\n",
        "for i in range(414):\n",
        "  x_train = np.append(x_train, df2.values[i])\n",
        "print(x_train.reshape(414,7))"
      ],
      "metadata": {
        "colab": {
          "base_uri": "https://localhost:8080/"
        },
        "id": "R98topcpLMP_",
        "outputId": "74593ae2-39d4-481a-84b3-2e578f1d4e4a"
      },
      "execution_count": null,
      "outputs": [
        {
          "output_type": "stream",
          "name": "stdout",
          "text": [
            "[[1.00e+00 2.01e+03 3.20e+01 ... 1.00e+01 2.50e+01 1.22e+02]\n",
            " [2.00e+00 2.01e+03 1.95e+01 ... 9.00e+00 2.50e+01 1.22e+02]\n",
            " [3.00e+00 2.01e+03 1.33e+01 ... 5.00e+00 2.50e+01 1.22e+02]\n",
            " ...\n",
            " [4.12e+02 2.01e+03 1.88e+01 ... 7.00e+00 2.50e+01 1.22e+02]\n",
            " [4.13e+02 2.01e+03 8.10e+00 ... 5.00e+00 2.50e+01 1.22e+02]\n",
            " [4.14e+02 2.01e+03 6.50e+00 ... 9.00e+00 2.50e+01 1.22e+02]]\n"
          ]
        }
      ]
    },
    {
      "cell_type": "code",
      "source": [
        "x_train = x_train.reshape(414,7)\n",
        "import matplotlib.pyplot as plt\n",
        "from sklearn.linear_model import SGDRegressor\n",
        "from sklearn.preprocessing import StandardScaler\n",
        "from sklearn.metrics import r2_score\n",
        "from lab_utils_multi import  load_house_data\n",
        "from lab_utils_common import dlc\n",
        "np.set_printoptions(precision=2)\n",
        "plt.style.use('./deeplearning.mplstyle')\n",
        "scaler = StandardScaler()\n",
        "x_norm = scaler.fit_transform(x_train)\n",
        "print(f\"Peak to Peak range by column in Raw        X:{np.ptp(x_train,axis=0)}\")\n",
        "print(f\"Peak to Peak range by column in Normalized X:{np.ptp(x_norm,axis=0)}\")"
      ],
      "metadata": {
        "colab": {
          "base_uri": "https://localhost:8080/"
        },
        "id": "mtq59xe6TuGu",
        "outputId": "92887601-5a0f-46ec-c0d5-2fd4134c50e7"
      },
      "execution_count": null,
      "outputs": [
        {
          "output_type": "stream",
          "name": "stdout",
          "text": [
            "Peak to Peak range by column in Raw        X:[4.13e+02 9.16e-01 4.38e+01 6.46e+03 1.00e+01 8.25e-02 9.27e-02]\n",
            "Peak to Peak range by column in Normalized X:[3.46 3.25 3.85 5.13 3.4  6.66 6.05]\n"
          ]
        }
      ]
    },
    {
      "cell_type": "code",
      "source": [
        "sgdr = SGDRegressor(max_iter=1000)\n",
        "sgdr.fit(x_norm, y_train)\n",
        "print(sgdr)\n",
        "print(f\"number of iterations completed: {sgdr.n_iter_}, number of weight updates: {sgdr.t_}\")"
      ],
      "metadata": {
        "colab": {
          "base_uri": "https://localhost:8080/"
        },
        "id": "qgqnlAiFVRV2",
        "outputId": "7de3c1e5-61bf-48bb-9de0-4976e9b1783a"
      },
      "execution_count": null,
      "outputs": [
        {
          "output_type": "stream",
          "name": "stdout",
          "text": [
            "SGDRegressor()\n",
            "number of iterations completed: 25, number of weight updates: 10351.0\n"
          ]
        }
      ]
    },
    {
      "cell_type": "code",
      "source": [
        "b_norm = sgdr.intercept_\n",
        "w_norm = sgdr.coef_\n",
        "print(f\"model parameters:                   w: {w_norm}, b:{b_norm}\")"
      ],
      "metadata": {
        "colab": {
          "base_uri": "https://localhost:8080/"
        },
        "id": "KAsiD09dVVOK",
        "outputId": "9b5bf706-b16d-4ceb-d0d1-53049642a477"
      },
      "execution_count": null,
      "outputs": [
        {
          "output_type": "stream",
          "name": "stdout",
          "text": [
            "model parameters:                   w: [-0.42  1.38 -3.09 -5.33  3.37  2.84 -0.01], b:[37.95]\n"
          ]
        }
      ]
    },
    {
      "cell_type": "code",
      "source": [
        "y_pred_sgd = sgdr.predict(x_norm)\n",
        "y_pred = np.dot(x_norm, w_norm) + b_norm\n",
        "print(f\"prediction using np.dot() and sgdr.predict match: {(y_pred == y_pred_sgd).all()}\")\n",
        "\n",
        "print(f\"Prediction on training set:\\n{y_pred[:10]}\" )\n",
        "print(f\"Target values \\n{y_train[:10]}\")\n",
        "r2 = r2_score(y_train, y_pred)\n",
        "print('r2 score for model is', r2)"
      ],
      "metadata": {
        "colab": {
          "base_uri": "https://localhost:8080/"
        },
        "id": "-divKtguVf2K",
        "outputId": "52939687-abda-4fc2-a1a1-6ca71e652efd"
      },
      "execution_count": null,
      "outputs": [
        {
          "output_type": "stream",
          "name": "stdout",
          "text": [
            "prediction using np.dot() and sgdr.predict match: True\n",
            "Prediction on training set:\n",
            "[47.85 48.56 49.47 49.06 46.91 31.96 39.37 47.43 10.19 35.32]\n",
            "Target values \n",
            "[37.9 42.2 47.3 54.8 43.1 32.1 40.3 46.7 18.8 22.1]\n",
            "r2 score for model is 0.5831669587005699\n"
          ]
        }
      ]
    },
    {
      "cell_type": "markdown",
      "source": [
        "Now applying linear regression from scratch"
      ],
      "metadata": {
        "id": "ddcM5Q3Yw6VJ"
      }
    },
    {
      "cell_type": "code",
      "source": [
        "import copy, math\n",
        "import numpy as np\n",
        "import matplotlib.pyplot as plt\n",
        "plt.style.use('./deeplearning.mplstyle')\n",
        "np.set_printoptions(precision=2)  # reduced display precision on numpy arrays\n",
        "def compute_gradient(X, y, w, b):\n",
        "    m,n = X.shape           #(number of examples, number of features)\n",
        "    dj_dw = np.zeros((n,))\n",
        "    dj_db = 0.\n",
        "\n",
        "    for i in range(m):\n",
        "        err = (np.dot(X[i], w) + b) - y[i]\n",
        "        for j in range(n):\n",
        "            dj_dw[j] = dj_dw[j] + err * X[i, j]\n",
        "        dj_db = dj_db + err\n",
        "    dj_dw = dj_dw / m\n",
        "    dj_db = dj_db / m\n",
        "\n",
        "    return dj_db, dj_dw"
      ],
      "metadata": {
        "id": "tC3PAQMXw--X"
      },
      "execution_count": null,
      "outputs": []
    },
    {
      "cell_type": "code",
      "source": [
        "import copy, math\n",
        "import numpy as np\n",
        "import matplotlib.pyplot as plt\n",
        "plt.style.use('./deeplearning.mplstyle')\n",
        "np.set_printoptions(precision=2)  # reduced display precision on numpy arrays\n",
        "def gradient_descent(X, y, w_in, b_in, cost_function, gradient_function, alpha, num_iters):\n",
        "\n",
        "    # An array to store cost J and w's at each iteration primarily for graphing later\n",
        "    J_history = []\n",
        "    w = copy.deepcopy(w_in)  #avoid modifying global w within function\n",
        "    b = b_in\n",
        "\n",
        "    for i in range(num_iters):\n",
        "\n",
        "        # Calculate the gradient and update the parameters\n",
        "        dj_db,dj_dw = gradient_function(X, y, w, b)   ##None\n",
        "\n",
        "        # Update Parameters using w, b, alpha and gradient\n",
        "        w = w - alpha * dj_dw               ##None\n",
        "        b = b - alpha * dj_db               ##None\n",
        "\n",
        "        # Save cost J at each iteration\n",
        "        if i<100000:      # prevent resource exhaustion\n",
        "            J_history.append( cost_function(X, y, w, b))\n",
        "\n",
        "        # Print cost every at intervals 10 times or as many iterations if < 10\n",
        "        if i% math.ceil(num_iters / 10) == 0:\n",
        "            print(f\"Iteration {i:4d}: Cost {J_history[-1]:8.2f}   \")\n",
        "\n",
        "    return w, b, J_history #return final w,b and J history for graphing"
      ],
      "metadata": {
        "id": "NWgIpG_xAwhZ"
      },
      "execution_count": null,
      "outputs": []
    },
    {
      "cell_type": "code",
      "source": [
        "def predict(x, w, b):\n",
        "    p = np.dot(x, w) + b\n",
        "    return p"
      ],
      "metadata": {
        "id": "MiANEXmmCDl5"
      },
      "execution_count": null,
      "outputs": []
    },
    {
      "cell_type": "code",
      "source": [
        "def compute_cost(X, y, w, b):\n",
        "    m = X.shape[0]\n",
        "    cost = 0.0\n",
        "    for i in range(m):\n",
        "        f_wb_i = np.dot(X[i], w) + b           #(n,)(n,) = scalar (see np.dot)\n",
        "        cost = cost + (f_wb_i - y[i])**2       #scalar\n",
        "    cost = cost / (2 * m)                      #scalar\n",
        "    return cost"
      ],
      "metadata": {
        "id": "lHLIBb9TCUmg"
      },
      "execution_count": null,
      "outputs": []
    },
    {
      "cell_type": "code",
      "source": [
        "# initialize parameters\n",
        "initial_w = np.zeros_like(x_train[0])\n",
        "initial_b = 0.\n",
        "# some gradient descent settings\n",
        "iterations = 6000\n",
        "alpha = 5.0e-10\n",
        "# run gradient descent\n",
        "w_final, b_final, J_hist = gradient_descent(x_train, y_train, initial_w, initial_b,\n",
        "                                                    compute_cost, compute_gradient,\n",
        "                                                    alpha, iterations)\n",
        "print(f\"b,w found by gradient descent: {b_final:0.2f},{w_final} \")\n",
        "for i in range(10):\n",
        "    print(f\"prediction: {np.dot(x_train[i], w_final) + b_final:0.2f}, target value: {y_train[i]}\")"
      ],
      "metadata": {
        "colab": {
          "base_uri": "https://localhost:8080/"
        },
        "id": "34UukBS9Cbjj",
        "outputId": "dbf12e1e-6125-4b8c-ed7c-ef22f0d6ce60"
      },
      "execution_count": null,
      "outputs": [
        {
          "output_type": "stream",
          "name": "stdout",
          "text": [
            "Iteration    0: Cost   810.19   \n",
            "Iteration  600: Cost   174.76   \n",
            "Iteration 1200: Cost   105.02   \n",
            "Iteration 1800: Cost    77.81   \n",
            "Iteration 2400: Cost    64.33   \n",
            "Iteration 3000: Cost    57.53   \n",
            "Iteration 3600: Cost    54.10   \n",
            "Iteration 4200: Cost    52.36   \n",
            "Iteration 4800: Cost    51.49   \n",
            "Iteration 5400: Cost    51.04   \n",
            "b,w found by gradient descent: 0.00,[ 2.04e-03  2.21e-02  1.01e-04 -6.75e-03  9.10e-05  2.74e-04  1.33e-03] \n",
            "prediction: 44.08, target value: 37.9\n",
            "prediction: 42.59, target value: 42.2\n",
            "prediction: 40.88, target value: 47.3\n",
            "prediction: 40.88, target value: 54.8\n",
            "prediction: 42.02, target value: 43.1\n",
            "prediction: 29.98, target value: 32.1\n",
            "prediction: 40.45, target value: 40.3\n",
            "prediction: 42.74, target value: 46.7\n",
            "prediction: 7.48, target value: 18.8\n",
            "prediction: 32.65, target value: 22.1\n"
          ]
        }
      ]
    },
    {
      "cell_type": "markdown",
      "source": [
        "Applying the code from scratch without help"
      ],
      "metadata": {
        "id": "JJWh9zLJRRtA"
      }
    },
    {
      "cell_type": "code",
      "source": [
        "import numpy as np\n",
        "import pandas as pd\n",
        "import matplotlib.pyplot as plt\n",
        "import copy, math\n",
        "plt.style.use('./deeplearning.mplstyle')\n",
        "np.set_printoptions(precision=2)\n",
        "df = pd.read_csv('Real estate.csv')\n",
        "yt = df['Y house price of unit area'].values\n",
        "xt = np.array([])\n",
        "df2 = df.drop(df.columns[7],axis=1)\n",
        "for i in range(414):\n",
        "  xt = np.append(xt,df2.values[i])\n",
        "xt = xt.reshape(414,7)"
      ],
      "metadata": {
        "id": "xRpy0aWyRVSd"
      },
      "execution_count": null,
      "outputs": []
    },
    {
      "cell_type": "code",
      "source": [
        "class lreg():\n",
        "  def __init__(self, xtrain, ytrain):\n",
        "    self.xtrain = xtrain\n",
        "    self.ytrain = ytrain\n",
        "  def grad(self, w, b):\n",
        "    a = self.xtrain\n",
        "    b = self.ytrain\n",
        "    m,n = a.shape\n",
        "    djw = np.zeros(n,)\n",
        "    djb = 0\n",
        "    for i in range(m):\n",
        "      err = (np.dot(w,a[i])+b) - b[i]\n",
        "      for j in range(n):\n",
        "        djw[j] = djw[j] + err*a[i,j]\n",
        "      djb = djb + err\n",
        "    djw = djw/m\n",
        "    djb = djb/m\n",
        "    return djw,djb\n",
        "  def cost(self, w, b):\n",
        "    a = self.xtrain\n",
        "    c = self.ytrain\n",
        "    m = a.shape[0]\n",
        "    cost = 0.0\n",
        "    for i in range(m):\n",
        "        f_wb_i = np.dot(a[i], w) + b           #(n,)(n,) = scalar (see np.dot)\n",
        "        cost = cost + (f_wb_i - c[i])**2       #scalar\n",
        "    cost = cost / (2 * m)                      #scalar\n",
        "    return cost\n",
        "  def gdesc(self, win, bin, cost, grad, iter, alpha):\n",
        "    J_history = []\n",
        "    w = copy.deepcopy(win)\n",
        "    b = bin\n",
        "    a = self.xtrain\n",
        "    c = self.ytrain\n",
        "    dj_db,dj_dw = grad(a, c, w, b)\n",
        "    for i in range(iter):\n",
        "      w = w - alpha * dj_dw\n",
        "      b = b - alpha * dj_db\n",
        "      if i<100000:\n",
        "          J_history.append( cost(X, y, w, b))\n",
        "      if i% math.ceil(iter / 10) == 0:\n",
        "            print(f\"Iteration {i:4d}: Cost {J_history[-1]:8.2f}   \")\n",
        "    return w, b, J_history"
      ],
      "metadata": {
        "id": "1qfFUM6yV0Gg"
      },
      "execution_count": null,
      "outputs": []
    },
    {
      "cell_type": "code",
      "source": [
        "l1 = lreg(xt,yt)\n",
        "# initialize parameters\n",
        "initial_w = np.zeros_like(xt[0])\n",
        "initial_b = 0.\n",
        "# some gradient descent settings\n",
        "iterations = 6000\n",
        "alpha = 5.0e-10\n",
        "# run gradient descent\n",
        "w_final, b_final, J_hist = l1.gdesc(initial_w, initial_b, l1.cost, l1.grad,iterations, alpha)\n",
        "print(f\"b,w found by gradient descent: {b_final:0.2f},{w_final} \")\n",
        "for i in range(10):\n",
        "    print(f\"prediction: {np.dot(xt[i], w_final) + b_final:0.2f}, target value: {yt[i]}\")"
      ],
      "metadata": {
        "colab": {
          "base_uri": "https://localhost:8080/",
          "height": 356
        },
        "id": "MHEUsonGJDne",
        "outputId": "94b56bde-cce7-40f5-e5bb-042ba280148b"
      },
      "execution_count": null,
      "outputs": [
        {
          "output_type": "error",
          "ename": "TypeError",
          "evalue": "ignored",
          "traceback": [
            "\u001b[0;31m---------------------------------------------------------------------------\u001b[0m",
            "\u001b[0;31mTypeError\u001b[0m                                 Traceback (most recent call last)",
            "\u001b[0;32m<ipython-input-24-3f1b0eb7049e>\u001b[0m in \u001b[0;36m<cell line: 9>\u001b[0;34m()\u001b[0m\n\u001b[1;32m      7\u001b[0m \u001b[0malpha\u001b[0m \u001b[0;34m=\u001b[0m \u001b[0;36m5.0e-10\u001b[0m\u001b[0;34m\u001b[0m\u001b[0;34m\u001b[0m\u001b[0m\n\u001b[1;32m      8\u001b[0m \u001b[0;31m# run gradient descent\u001b[0m\u001b[0;34m\u001b[0m\u001b[0;34m\u001b[0m\u001b[0m\n\u001b[0;32m----> 9\u001b[0;31m \u001b[0mw_final\u001b[0m\u001b[0;34m,\u001b[0m \u001b[0mb_final\u001b[0m\u001b[0;34m,\u001b[0m \u001b[0mJ_hist\u001b[0m \u001b[0;34m=\u001b[0m \u001b[0ml1\u001b[0m\u001b[0;34m.\u001b[0m\u001b[0mgdesc\u001b[0m\u001b[0;34m(\u001b[0m\u001b[0minitial_w\u001b[0m\u001b[0;34m,\u001b[0m \u001b[0minitial_b\u001b[0m\u001b[0;34m,\u001b[0m \u001b[0ml1\u001b[0m\u001b[0;34m.\u001b[0m\u001b[0mcost\u001b[0m\u001b[0;34m,\u001b[0m \u001b[0ml1\u001b[0m\u001b[0;34m.\u001b[0m\u001b[0mgrad\u001b[0m\u001b[0;34m,\u001b[0m\u001b[0miterations\u001b[0m\u001b[0;34m,\u001b[0m \u001b[0malpha\u001b[0m\u001b[0;34m)\u001b[0m\u001b[0;34m\u001b[0m\u001b[0;34m\u001b[0m\u001b[0m\n\u001b[0m\u001b[1;32m     10\u001b[0m \u001b[0mprint\u001b[0m\u001b[0;34m(\u001b[0m\u001b[0;34mf\"b,w found by gradient descent: {b_final:0.2f},{w_final} \"\u001b[0m\u001b[0;34m)\u001b[0m\u001b[0;34m\u001b[0m\u001b[0;34m\u001b[0m\u001b[0m\n\u001b[1;32m     11\u001b[0m \u001b[0;32mfor\u001b[0m \u001b[0mi\u001b[0m \u001b[0;32min\u001b[0m \u001b[0mrange\u001b[0m\u001b[0;34m(\u001b[0m\u001b[0;36m10\u001b[0m\u001b[0;34m)\u001b[0m\u001b[0;34m:\u001b[0m\u001b[0;34m\u001b[0m\u001b[0;34m\u001b[0m\u001b[0m\n",
            "\u001b[0;32m<ipython-input-3-7d80fb411b1f>\u001b[0m in \u001b[0;36mgdesc\u001b[0;34m(self, win, bin, cost, grad, iter, alpha)\u001b[0m\n\u001b[1;32m     33\u001b[0m     \u001b[0ma\u001b[0m \u001b[0;34m=\u001b[0m \u001b[0mself\u001b[0m\u001b[0;34m.\u001b[0m\u001b[0mxtrain\u001b[0m\u001b[0;34m\u001b[0m\u001b[0;34m\u001b[0m\u001b[0m\n\u001b[1;32m     34\u001b[0m     \u001b[0mc\u001b[0m \u001b[0;34m=\u001b[0m \u001b[0mself\u001b[0m\u001b[0;34m.\u001b[0m\u001b[0mytrain\u001b[0m\u001b[0;34m\u001b[0m\u001b[0;34m\u001b[0m\u001b[0m\n\u001b[0;32m---> 35\u001b[0;31m     \u001b[0mdj_db\u001b[0m\u001b[0;34m,\u001b[0m\u001b[0mdj_dw\u001b[0m \u001b[0;34m=\u001b[0m \u001b[0mgrad\u001b[0m\u001b[0;34m(\u001b[0m\u001b[0ma\u001b[0m\u001b[0;34m,\u001b[0m \u001b[0mc\u001b[0m\u001b[0;34m,\u001b[0m \u001b[0mw\u001b[0m\u001b[0;34m,\u001b[0m \u001b[0mb\u001b[0m\u001b[0;34m)\u001b[0m\u001b[0;34m\u001b[0m\u001b[0;34m\u001b[0m\u001b[0m\n\u001b[0m\u001b[1;32m     36\u001b[0m     \u001b[0;32mfor\u001b[0m \u001b[0mi\u001b[0m \u001b[0;32min\u001b[0m \u001b[0mrange\u001b[0m\u001b[0;34m(\u001b[0m\u001b[0miter\u001b[0m\u001b[0;34m)\u001b[0m\u001b[0;34m:\u001b[0m\u001b[0;34m\u001b[0m\u001b[0;34m\u001b[0m\u001b[0m\n\u001b[1;32m     37\u001b[0m       \u001b[0mw\u001b[0m \u001b[0;34m=\u001b[0m \u001b[0mw\u001b[0m \u001b[0;34m-\u001b[0m \u001b[0malpha\u001b[0m \u001b[0;34m*\u001b[0m \u001b[0mdj_dw\u001b[0m\u001b[0;34m\u001b[0m\u001b[0;34m\u001b[0m\u001b[0m\n",
            "\u001b[0;31mTypeError\u001b[0m: lreg.grad() takes 3 positional arguments but 5 were given"
          ]
        }
      ]
    },
    {
      "cell_type": "code",
      "source": [
        "import numpy as np\n",
        "import pandas as pd\n",
        "import matplotlib.pyplot as plt\n",
        "import copy, math\n",
        "plt.style.use('./deeplearning.mplstyle')\n",
        "np.set_printoptions(precision=2)\n",
        "df = pd.read_csv('Real estate.csv')\n",
        "yt = df['Y house price of unit area'].values\n",
        "xt = df.drop(df.columns[7], axis=1).values\n",
        "\n",
        "class lreg():\n",
        "    def __init__(self, xtrain, ytrain):\n",
        "        self.xtrain = xtrain\n",
        "        self.ytrain = ytrain\n",
        "\n",
        "    def grad(self, w, b):\n",
        "        a = self.xtrain\n",
        "        c = self.ytrain\n",
        "        m, n = a.shape\n",
        "        djw = np.zeros(n)\n",
        "        djb = 0\n",
        "        for i in range(m):\n",
        "            err = (np.dot(w, a[i]) + b) - c[i]\n",
        "            for j in range(n):\n",
        "                djw[j] = djw[j] + err * a[i, j]\n",
        "            djb = djb + err\n",
        "        djw = djw / m\n",
        "        djb = djb / m\n",
        "        return djw, djb\n",
        "\n",
        "    def cost(self, w, b):\n",
        "        a = self.xtrain\n",
        "        c = self.ytrain\n",
        "        m = a.shape[0]\n",
        "        cost = 0.0\n",
        "        for i in range(m):\n",
        "            f_wb_i = np.dot(a[i], w) + b\n",
        "            cost = cost + (f_wb_i - c[i]) ** 2\n",
        "        cost = cost / (2 * m)\n",
        "        return cost\n",
        "\n",
        "    def gdesc(self, win, bin, cost, grad, iter, alpha):\n",
        "        J_history = []\n",
        "        w = copy.deepcopy(win)\n",
        "        b = bin\n",
        "        a = self.xtrain\n",
        "        c = self.ytrain\n",
        "        for i in range(iter):\n",
        "            dj_dw, dj_db = grad(w, b)\n",
        "            w = w - alpha * dj_dw\n",
        "            b = b - alpha * dj_db\n",
        "            if i < 100000:\n",
        "                J_history.append(cost(w, b))\n",
        "            if i % math.ceil(iter / 10) == 0:\n",
        "                print(f\"Iteration {i:4d}: Cost {J_history[-1]:8.2f}\")\n",
        "        return w, b, J_history\n",
        "\n",
        "l1 = lreg(xt, yt)\n",
        "# initialize parameters\n",
        "initial_w = np.zeros_like(xt[0])\n",
        "initial_b = 0.\n",
        "# some gradient descent settings\n",
        "iterations = 6000\n",
        "alpha = 5.0e-10\n",
        "# run gradient descent\n",
        "w_final, b_final, J_hist = l1.gdesc(initial_w, initial_b, l1.cost, l1.grad, iterations, alpha)\n",
        "print(f\"b, w found by gradient descent: {b_final:0.2f}, {w_final} \")\n",
        "for i in range(10):\n",
        "    print(f\"prediction: {np.dot(xt[i], w_final) + b_final:0.2f}, target value: {yt[i]}\")\n"
      ],
      "metadata": {
        "colab": {
          "base_uri": "https://localhost:8080/"
        },
        "id": "vask9JzObIUt",
        "outputId": "4a01fc80-31a9-4440-f694-f0f08050cc8e"
      },
      "execution_count": null,
      "outputs": [
        {
          "output_type": "stream",
          "name": "stdout",
          "text": [
            "Iteration    0: Cost   810.19\n",
            "Iteration  600: Cost   174.76\n",
            "Iteration 1200: Cost   105.02\n",
            "Iteration 1800: Cost    77.81\n",
            "Iteration 2400: Cost    64.33\n",
            "Iteration 3000: Cost    57.53\n",
            "Iteration 3600: Cost    54.10\n",
            "Iteration 4200: Cost    52.36\n",
            "Iteration 4800: Cost    51.49\n",
            "Iteration 5400: Cost    51.04\n",
            "b, w found by gradient descent: 0.00, [ 2.04e-03  2.21e-02  1.01e-04 -6.75e-03  9.10e-05  2.74e-04  1.33e-03] \n",
            "prediction: 44.08, target value: 37.9\n",
            "prediction: 42.59, target value: 42.2\n",
            "prediction: 40.88, target value: 47.3\n",
            "prediction: 40.88, target value: 54.8\n",
            "prediction: 42.02, target value: 43.1\n",
            "prediction: 29.98, target value: 32.1\n",
            "prediction: 40.45, target value: 40.3\n",
            "prediction: 42.74, target value: 46.7\n",
            "prediction: 7.48, target value: 18.8\n",
            "prediction: 32.65, target value: 22.1\n"
          ]
        }
      ]
    }
  ]
}